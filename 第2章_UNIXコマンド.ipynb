{
  "nbformat": 4,
  "nbformat_minor": 0,
  "metadata": {
    "colab": {
      "name": "第2章: UNIXコマンド.ipynb",
      "provenance": [],
      "toc_visible": true,
      "mount_file_id": "1yb_ZD1nqoA4BfpXm0GXNicFoHCCmjMm9",
      "authorship_tag": "ABX9TyOajr5Fv+UpxlG6RfZBtt/f",
      "include_colab_link": true
    },
    "kernelspec": {
      "name": "python3",
      "display_name": "Python 3"
    }
  },
  "cells": [
    {
      "cell_type": "markdown",
      "metadata": {
        "id": "view-in-github",
        "colab_type": "text"
      },
      "source": [
        "<a href=\"https://colab.research.google.com/github/wf-yamaday/nlp-100/blob/master/%E7%AC%AC2%E7%AB%A0_UNIX%E3%82%B3%E3%83%9E%E3%83%B3%E3%83%89.ipynb\" target=\"_parent\"><img src=\"https://colab.research.google.com/assets/colab-badge.svg\" alt=\"Open In Colab\"/></a>"
      ]
    },
    {
      "cell_type": "markdown",
      "metadata": {
        "id": "CXptbk_n6_14",
        "colab_type": "text"
      },
      "source": [
        "popular-names.txtは，アメリカで生まれた赤ちゃんの「名前」「性別」「人数」「年」をタブ区切り形式で格納したファイルである．以下の処理を行うプログラムを作成し，popular-names.txtを入力ファイルとして実行せよ．さらに，同様の処理をUNIXコマンドでも実行し，プログラムの実行結果を確認せよ．"
      ]
    },
    {
      "cell_type": "code",
      "metadata": {
        "id": "x0ogn9kr66pw",
        "colab_type": "code",
        "colab": {}
      },
      "source": [
        "!cp /content/drive/My\\ Drive/Colab\\ Notebooks/NLP-100/data/popular-names.txt ."
      ],
      "execution_count": 0,
      "outputs": []
    },
    {
      "cell_type": "markdown",
      "metadata": {
        "id": "5XJv5etS6won",
        "colab_type": "text"
      },
      "source": [
        "# 10. 行数のカウント\n",
        "\n",
        "行数をカウントせよ．確認にはwcコマンドを用いよ"
      ]
    },
    {
      "cell_type": "code",
      "metadata": {
        "id": "qXgifYiUbavZ",
        "colab_type": "code",
        "colab": {
          "base_uri": "https://localhost:8080/",
          "height": 34
        },
        "outputId": "c12dc6a0-1d05-4d82-fdea-6d342a21df3a"
      },
      "source": [
        "path = './popular-names.txt'\n",
        "\n",
        "text = ''\n",
        "with open(path, mode='r', encoding='utf-8') as f:\n",
        "  text = f.read()\n",
        "\n",
        "# 最後の空行をカウントしない\n",
        "print(len(text.split('\\n')) - 1)"
      ],
      "execution_count": 15,
      "outputs": [
        {
          "output_type": "stream",
          "text": [
            "2780\n"
          ],
          "name": "stdout"
        }
      ]
    },
    {
      "cell_type": "code",
      "metadata": {
        "id": "9tV4CSAEO224",
        "colab_type": "code",
        "colab": {
          "base_uri": "https://localhost:8080/",
          "height": 34
        },
        "outputId": "c95059ef-aacc-46f5-ba24-1d855ea9587d"
      },
      "source": [
        "# wcコマンドでの確認\n",
        "!wc popular-names.txt"
      ],
      "execution_count": 6,
      "outputs": [
        {
          "output_type": "stream",
          "text": [
            " 2780 11120 55026 popular-names.txt\n"
          ],
          "name": "stdout"
        }
      ]
    },
    {
      "cell_type": "markdown",
      "metadata": {
        "id": "Kumx-7ybbOEf",
        "colab_type": "text"
      },
      "source": [
        "# 11. タブをスペースに置換\n",
        "\n",
        "タブ1文字につきスペース1文字に置換せよ．確認にはsedコマンド，trコマンド，もしくはexpandコマンドを用いよ．"
      ]
    },
    {
      "cell_type": "code",
      "metadata": {
        "id": "olKynCYocjvB",
        "colab_type": "code",
        "colab": {}
      },
      "source": [
        ""
      ],
      "execution_count": 0,
      "outputs": []
    }
  ]
}