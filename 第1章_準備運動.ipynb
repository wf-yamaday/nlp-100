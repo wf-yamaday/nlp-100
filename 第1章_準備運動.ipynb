{
  "nbformat": 4,
  "nbformat_minor": 0,
  "metadata": {
    "colab": {
      "name": "第1章: 準備運動.ipynb",
      "provenance": [],
      "collapsed_sections": [],
      "authorship_tag": "ABX9TyP84I169LmvhUNi+V6/C4rs",
      "include_colab_link": true
    },
    "kernelspec": {
      "name": "python3",
      "display_name": "Python 3"
    }
  },
  "cells": [
    {
      "cell_type": "markdown",
      "metadata": {
        "id": "view-in-github",
        "colab_type": "text"
      },
      "source": [
        "<a href=\"https://colab.research.google.com/github/wf-yamaday/nlp-100/blob/master/%E7%AC%AC1%E7%AB%A0_%E6%BA%96%E5%82%99%E9%81%8B%E5%8B%95.ipynb\" target=\"_parent\"><img src=\"https://colab.research.google.com/assets/colab-badge.svg\" alt=\"Open In Colab\"/></a>"
      ]
    },
    {
      "cell_type": "markdown",
      "metadata": {
        "id": "M5HCJMI7_heP",
        "colab_type": "text"
      },
      "source": [
        "# 00. 文字列の逆順\n",
        "\n",
        "文字列”stressed”の文字を逆に（末尾から先頭に向かって）並べた文字列を得よ．"
      ]
    },
    {
      "cell_type": "code",
      "metadata": {
        "id": "LCDP3AH0_sn-",
        "colab_type": "code",
        "outputId": "f548b8fc-eeef-41be-f78f-5de86d850076",
        "colab": {
          "base_uri": "https://localhost:8080/",
          "height": 34
        }
      },
      "source": [
        "text = 'stressed'\n",
        "for i in reversed(list(text)):\n",
        "  print(i, end='')"
      ],
      "execution_count": 0,
      "outputs": [
        {
          "output_type": "stream",
          "text": [
            "desserts"
          ],
          "name": "stdout"
        }
      ]
    },
    {
      "cell_type": "markdown",
      "metadata": {
        "id": "eOv7WAKW_4Dl",
        "colab_type": "text"
      },
      "source": [
        "# 01. 「パタトクカシーー」\n",
        "\n",
        "「パタトクカシーー」という文字列の1,3,5,7文字目を取り出して連結した文字列を得よ"
      ]
    },
    {
      "cell_type": "code",
      "metadata": {
        "id": "-hP3pHSMBFyj",
        "colab_type": "code",
        "outputId": "6c715d54-64c8-4bd8-c470-82cca7bc2ab7",
        "colab": {
          "base_uri": "https://localhost:8080/",
          "height": 34
        }
      },
      "source": [
        "text = 'パタトクカシーー'\n",
        "print(''.join(list(text)[1::2]))"
      ],
      "execution_count": 0,
      "outputs": [
        {
          "output_type": "stream",
          "text": [
            "タクシー\n"
          ],
          "name": "stdout"
        }
      ]
    },
    {
      "cell_type": "markdown",
      "metadata": {
        "id": "fqrjjYNhBPmX",
        "colab_type": "text"
      },
      "source": [
        "# 02. 「パトカー」＋「タクシー」＝「パタトクカシーー」\n",
        "\n",
        "「パトカー」＋「タクシー」の文字を先頭から交互に連結して文字列「パタトクカシーー」を得よ．"
      ]
    },
    {
      "cell_type": "code",
      "metadata": {
        "id": "IC7jGp2RDm3N",
        "colab_type": "code",
        "outputId": "6a4cbd25-83b1-4271-dbfc-3ab9a1dca132",
        "colab": {
          "base_uri": "https://localhost:8080/",
          "height": 34
        }
      },
      "source": [
        "text_1 = 'パトカー'\n",
        "text_2 = 'タクシー'\n",
        "for i in range(len(text_1)):\n",
        "  if i%2 == 0:\n",
        "    print(text_1[i], end='')\n",
        "  else:\n",
        "    print(text_2[i], end='')"
      ],
      "execution_count": 0,
      "outputs": [
        {
          "output_type": "stream",
          "text": [
            "パクカー"
          ],
          "name": "stdout"
        }
      ]
    },
    {
      "cell_type": "markdown",
      "metadata": {
        "id": "jMqoAw2YEQ5O",
        "colab_type": "text"
      },
      "source": [
        "# 03. 円周率\n",
        "\n",
        "“Now I need a drink, alcoholic of course, after the heavy lectures involving quantum mechanics.”という文を単語に分解し，各単語の（アルファベットの）文字数を先頭から出現順に並べたリストを作成せよ．"
      ]
    },
    {
      "cell_type": "code",
      "metadata": {
        "id": "6nZv4RxlEeje",
        "colab_type": "code",
        "outputId": "a8c71693-60f4-4496-adc9-6c9bfb42350b",
        "colab": {
          "base_uri": "https://localhost:8080/",
          "height": 34
        }
      },
      "source": [
        "text = 'Now I need a drink, alcoholic of course, after the heavy lectures involving quantum mechanics.'\n",
        "\n",
        "# カンマとピリオドを削除\n",
        "text = text.replace(',', '')\n",
        "text = text.replace('.', '')\n",
        "\n",
        "# 単語区切りに分割\n",
        "text_list = text.split(' ')\n",
        "\n",
        "# 先頭から文字数をlistのいれる\n",
        "text_len_list = [len(item) for item in text_list]\n",
        "\n",
        "print(text_len_list)"
      ],
      "execution_count": 0,
      "outputs": [
        {
          "output_type": "stream",
          "text": [
            "[3, 1, 4, 1, 5, 9, 2, 6, 5, 3, 5, 8, 9, 7, 9]\n"
          ],
          "name": "stdout"
        }
      ]
    },
    {
      "cell_type": "markdown",
      "metadata": {
        "id": "vY_hwFHxEs3l",
        "colab_type": "text"
      },
      "source": [
        "# 04. 元素記号\n",
        "\n",
        "“Hi He Lied Because Boron Could Not Oxidize Fluorine. New Nations Might Also Sign Peace Security Clause. Arthur King Can.”という文を単語に分解し，1, 5, 6, 7, 8, 9, 15, 16, 19番目の単語は先頭の1文字，それ以外の単語は先頭に2文字を取り出し，取り出した文字列から単語の位置（先頭から何番目の単語か）への連想配列（辞書型もしくはマップ型）を作成せよ．"
      ]
    },
    {
      "cell_type": "code",
      "metadata": {
        "id": "Ih59px1ZF14b",
        "colab_type": "code",
        "outputId": "47e4a3eb-8c02-4422-c5bf-6f5574d2fadc",
        "colab": {
          "base_uri": "https://localhost:8080/",
          "height": 34
        }
      },
      "source": [
        "text = 'Hi He Lied Because Boron Could Not Oxidize Fluorine. New Nations Might Also Sign Peace Security Clause. Arthur King Can.'\n",
        "text_list = text.split(' ')\n",
        "index = [1, 5, 6, 7, 8, 9, 15, 16, 19]\n",
        "\n",
        "text_dic = {}\n",
        "\n",
        "for i, item in enumerate(text_list):\n",
        "  if i + 1 in index:\n",
        "    text_dic[item[0]] = i + 1\n",
        "  else:\n",
        "    text_dic[item[0:2]] = i + 1\n",
        "\n",
        "print(text_dic)"
      ],
      "execution_count": 0,
      "outputs": [
        {
          "output_type": "stream",
          "text": [
            "{'H': 1, 'He': 2, 'Li': 3, 'Be': 4, 'B': 5, 'C': 6, 'N': 7, 'O': 8, 'F': 9, 'Ne': 10, 'Na': 11, 'Mi': 12, 'Al': 13, 'Si': 14, 'P': 15, 'S': 16, 'Cl': 17, 'Ar': 18, 'K': 19, 'Ca': 20}\n"
          ],
          "name": "stdout"
        }
      ]
    },
    {
      "cell_type": "markdown",
      "metadata": {
        "id": "Dq8IOq1LF_rD",
        "colab_type": "text"
      },
      "source": [
        "# 05. n-gram\n",
        "\n",
        "与えられたシーケンス（文字列やリストなど）からn-gramを作る関数を作成せよ．この関数を用い，”I am an NLPer”という文から単語bi-gram，文字bi-gramを得よ．"
      ]
    },
    {
      "cell_type": "code",
      "metadata": {
        "id": "c4q9PgEzSwZ-",
        "colab_type": "code",
        "colab": {}
      },
      "source": [
        "# n-gramを得る関数\n",
        "def to_n_gram(text, n=2):\n",
        "  return [ text[i:i + n] for i in range(len(text) - n + 1)]"
      ],
      "execution_count": 0,
      "outputs": []
    },
    {
      "cell_type": "code",
      "metadata": {
        "id": "ZkXqEtCBTd98",
        "colab_type": "code",
        "outputId": "f5480306-2d6e-4055-e140-0a0f4607f3e4",
        "colab": {
          "base_uri": "https://localhost:8080/",
          "height": 51
        }
      },
      "source": [
        "text = 'I am an NLPer'\n",
        "print(to_n_gram(text))\n",
        "print(to_n_gram(text.split()))"
      ],
      "execution_count": 0,
      "outputs": [
        {
          "output_type": "stream",
          "text": [
            "['I ', ' a', 'am', 'm ', ' a', 'an', 'n ', ' N', 'NL', 'LP', 'Pe', 'er']\n",
            "[['I', 'am'], ['am', 'an'], ['an', 'NLPer']]\n"
          ],
          "name": "stdout"
        }
      ]
    },
    {
      "cell_type": "markdown",
      "metadata": {
        "id": "Svh0d4kOTjmy",
        "colab_type": "text"
      },
      "source": [
        "# 06. 集合\n",
        "\n",
        "“paraparaparadise”と”paragraph”に含まれる文字bi-gramの集合を，それぞれ, XとYとして求め，XとYの和集合，積集合，差集合を求めよ．さらに，’se’というbi-gramがXおよびYに含まれるかどうかを調べよ．"
      ]
    },
    {
      "cell_type": "code",
      "metadata": {
        "id": "Wa0TJDonoi2_",
        "colab_type": "code",
        "outputId": "0ef8d850-0bca-4f19-9e4e-a29ce44a6413",
        "colab": {
          "base_uri": "https://localhost:8080/",
          "height": 68
        }
      },
      "source": [
        "text_1 = 'paraparaparadise'\n",
        "text_2 = 'paragraph'\n",
        "\n",
        "X = set(to_n_gram(text_1))\n",
        "Y = set(to_n_gram(text_2))\n",
        "\n",
        "# 和集合\n",
        "print(X.union(Y))\n",
        "# 積集合\n",
        "print(X&Y)\n",
        "# 差集合\n",
        "print(X-Y)"
      ],
      "execution_count": 0,
      "outputs": [
        {
          "output_type": "stream",
          "text": [
            "{'se', 'ad', 'di', 'gr', 'ag', 'ph', 'is', 'ap', 'ar', 'ra', 'pa'}\n",
            "{'ap', 'ar', 'ra', 'pa'}\n",
            "{'ad', 'di', 'se', 'is'}\n"
          ],
          "name": "stdout"
        }
      ]
    },
    {
      "cell_type": "markdown",
      "metadata": {
        "id": "wFJ-Wyy47-IN",
        "colab_type": "text"
      },
      "source": [
        "# 07. テンプレートによる文生成\n",
        "\n",
        "引数x, y, zを受け取り「x時のyはz」という文字列を返す関数を実装せよ．さらに，x=12, y=”気温”, z=22.4として，実行結果を確認せよ．"
      ]
    },
    {
      "cell_type": "code",
      "metadata": {
        "id": "mVVrFyonrei6",
        "colab_type": "code",
        "colab": {
          "base_uri": "https://localhost:8080/",
          "height": 34
        },
        "outputId": "48b4de94-cb33-4ba6-8627-64a90a0174b2"
      },
      "source": [
        "def template_text(x, y, z):\n",
        "  return '{}時の{}は{}'.format(x, y, z,)\n",
        "\n",
        "x = 12\n",
        "y = '気温'\n",
        "z = 22.4\n",
        "\n",
        "print(template_text(x, y, z))"
      ],
      "execution_count": 2,
      "outputs": [
        {
          "output_type": "stream",
          "text": [
            "12時の気温は22.4\n"
          ],
          "name": "stdout"
        }
      ]
    },
    {
      "cell_type": "markdown",
      "metadata": {
        "id": "tWsfAcYcr1Si",
        "colab_type": "text"
      },
      "source": [
        "# 08. 暗号文\n",
        "\n",
        "与えられた文字列の各文字を，以下の仕様で変換する関数cipherを実装せよ．\n",
        "\n",
        "- 英小文字ならば(219 - 文字コード)の文字に置換\n",
        "- その他の文字はそのまま出力\n",
        "\n",
        "この関数を用い，英語のメッセージを暗号化・復号化せよ．"
      ]
    },
    {
      "cell_type": "code",
      "metadata": {
        "id": "7doL42_5sBqI",
        "colab_type": "code",
        "colab": {
          "base_uri": "https://localhost:8080/",
          "height": 34
        },
        "outputId": "a6476ddf-548e-4948-bb01-945a12575995"
      },
      "source": [
        "import re\n",
        "\n",
        "def cipher(text):\n",
        "  return ''.join(list(map(lambda x: re.sub('[a-z]', str(ord(x)), x), text)))\n",
        "\n",
        "text = 'My name is test'\n",
        "print(cipher(text))"
      ],
      "execution_count": 28,
      "outputs": [
        {
          "output_type": "stream",
          "text": [
            "M121 11097109101 105115 116101115116\n"
          ],
          "name": "stdout"
        }
      ]
    },
    {
      "cell_type": "markdown",
      "metadata": {
        "id": "4eHr_SAmsN3N",
        "colab_type": "text"
      },
      "source": [
        "# 09. Typoglycemia\n",
        "\n",
        "スペースで区切られた単語列に対して，各単語の先頭と末尾の文字は残し，それ以外の文字の順序をランダムに並び替えるプログラムを作成せよ．ただし，長さが４以下の単語は並び替えないこととする．適当な英語の文（例えば”I couldn’t believe that I could actually understand what I was reading : the phenomenal power of the human mind .”）を与え，その実行結果を確認せよ．"
      ]
    },
    {
      "cell_type": "code",
      "metadata": {
        "id": "B5FdVBWksSLV",
        "colab_type": "code",
        "colab": {
          "base_uri": "https://localhost:8080/",
          "height": 34
        },
        "outputId": "8ed2a101-24b5-4c53-8105-f1cf6a0081ce"
      },
      "source": [
        "import random\n",
        "\n",
        "# 単語を並び替える関数\n",
        "def shuffle_word(word):\n",
        "  if len(word) <= 4:\n",
        "    return word\n",
        "  else:\n",
        "    h_tmp = word[0]\n",
        "    t_tmp = word[-1]\n",
        "    tmp = random.sample(word[1:-1], len(word[1:-1]))\n",
        "    return h_tmp + ''.join(tmp) + t_tmp\n",
        "\n",
        "def random_text(text):\n",
        "  return ' '.join(list(map(lambda x: shuffle_word(x), text.split())))\n",
        "\n",
        "text = 'I couldn’t believe that I could actually understand what I was reading : the phenomenal power of the human mind .'\n",
        "print(random_text(text))"
      ],
      "execution_count": 63,
      "outputs": [
        {
          "output_type": "stream",
          "text": [
            "I cun’odlt believe that I culod alutlacy udenratnsd what I was reanidg : the pehnoamnel power of the hmuan mind .\n"
          ],
          "name": "stdout"
        }
      ]
    },
    {
      "cell_type": "code",
      "metadata": {
        "id": "n9Fl2hjC1AjP",
        "colab_type": "code",
        "colab": {}
      },
      "source": [
        ""
      ],
      "execution_count": 0,
      "outputs": []
    }
  ]
}