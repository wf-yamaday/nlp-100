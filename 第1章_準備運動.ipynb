{
  "nbformat": 4,
  "nbformat_minor": 0,
  "metadata": {
    "colab": {
      "name": "第1章: 準備運動.ipynb",
      "provenance": [],
      "authorship_tag": "ABX9TyNOV1aKlW14sk1Y4STO5pBA",
      "include_colab_link": true
    },
    "kernelspec": {
      "name": "python3",
      "display_name": "Python 3"
    }
  },
  "cells": [
    {
      "cell_type": "markdown",
      "metadata": {
        "id": "view-in-github",
        "colab_type": "text"
      },
      "source": [
        "<a href=\"https://colab.research.google.com/github/wf-yamaday/nlp-100/blob/master/%E7%AC%AC1%E7%AB%A0_%E6%BA%96%E5%82%99%E9%81%8B%E5%8B%95.ipynb\" target=\"_parent\"><img src=\"https://colab.research.google.com/assets/colab-badge.svg\" alt=\"Open In Colab\"/></a>"
      ]
    },
    {
      "cell_type": "markdown",
      "metadata": {
        "id": "M5HCJMI7_heP",
        "colab_type": "text"
      },
      "source": [
        "# 00. 文字列の逆順\n",
        "\n",
        "文字列”stressed”の文字を逆に（末尾から先頭に向かって）並べた文字列を得よ．"
      ]
    },
    {
      "cell_type": "code",
      "metadata": {
        "id": "LCDP3AH0_sn-",
        "colab_type": "code",
        "colab": {
          "base_uri": "https://localhost:8080/",
          "height": 34
        },
        "outputId": "f548b8fc-eeef-41be-f78f-5de86d850076"
      },
      "source": [
        "text = 'stressed'\n",
        "for i in reversed(list(text)):\n",
        "  print(i, end='')"
      ],
      "execution_count": 12,
      "outputs": [
        {
          "output_type": "stream",
          "text": [
            "desserts"
          ],
          "name": "stdout"
        }
      ]
    },
    {
      "cell_type": "markdown",
      "metadata": {
        "id": "eOv7WAKW_4Dl",
        "colab_type": "text"
      },
      "source": [
        "# 01. 「パタトクカシーー」\n",
        "\n",
        "「パタトクカシーー」という文字列の1,3,5,7文字目を取り出して連結した文字列を得よ"
      ]
    },
    {
      "cell_type": "code",
      "metadata": {
        "id": "-hP3pHSMBFyj",
        "colab_type": "code",
        "colab": {
          "base_uri": "https://localhost:8080/",
          "height": 34
        },
        "outputId": "6c715d54-64c8-4bd8-c470-82cca7bc2ab7"
      },
      "source": [
        "text = 'パタトクカシーー'\n",
        "print(''.join(list(text)[1::2]))"
      ],
      "execution_count": 15,
      "outputs": [
        {
          "output_type": "stream",
          "text": [
            "タクシー\n"
          ],
          "name": "stdout"
        }
      ]
    },
    {
      "cell_type": "markdown",
      "metadata": {
        "id": "fqrjjYNhBPmX",
        "colab_type": "text"
      },
      "source": [
        "# 02. 「パトカー」＋「タクシー」＝「パタトクカシーー」\n",
        "\n",
        "「パトカー」＋「タクシー」の文字を先頭から交互に連結して文字列「パタトクカシーー」を得よ．"
      ]
    },
    {
      "cell_type": "code",
      "metadata": {
        "id": "IC7jGp2RDm3N",
        "colab_type": "code",
        "colab": {
          "base_uri": "https://localhost:8080/",
          "height": 34
        },
        "outputId": "6a4cbd25-83b1-4271-dbfc-3ab9a1dca132"
      },
      "source": [
        "text_1 = 'パトカー'\n",
        "text_2 = 'タクシー'\n",
        "for i in range(len(text_1)):\n",
        "  if i%2 == 0:\n",
        "    print(text_1[i], end='')\n",
        "  else:\n",
        "    print(text_2[i], end='')"
      ],
      "execution_count": 19,
      "outputs": [
        {
          "output_type": "stream",
          "text": [
            "パクカー"
          ],
          "name": "stdout"
        }
      ]
    },
    {
      "cell_type": "markdown",
      "metadata": {
        "id": "jMqoAw2YEQ5O",
        "colab_type": "text"
      },
      "source": [
        "# 03. 円周率\n",
        "\n",
        "“Now I need a drink, alcoholic of course, after the heavy lectures involving quantum mechanics.”という文を単語に分解し，各単語の（アルファベットの）文字数を先頭から出現順に並べたリストを作成せよ．"
      ]
    },
    {
      "cell_type": "code",
      "metadata": {
        "id": "6nZv4RxlEeje",
        "colab_type": "code",
        "colab": {
          "base_uri": "https://localhost:8080/",
          "height": 34
        },
        "outputId": "a8c71693-60f4-4496-adc9-6c9bfb42350b"
      },
      "source": [
        "text = 'Now I need a drink, alcoholic of course, after the heavy lectures involving quantum mechanics.'\n",
        "\n",
        "# カンマとピリオドを削除\n",
        "text = text.replace(',', '')\n",
        "text = text.replace('.', '')\n",
        "\n",
        "# 単語区切りに分割\n",
        "text_list = text.split(' ')\n",
        "\n",
        "# 先頭から文字数をlistのいれる\n",
        "text_len_list = [len(item) for item in text_list]\n",
        "\n",
        "print(text_len_list)"
      ],
      "execution_count": 32,
      "outputs": [
        {
          "output_type": "stream",
          "text": [
            "[3, 1, 4, 1, 5, 9, 2, 6, 5, 3, 5, 8, 9, 7, 9]\n"
          ],
          "name": "stdout"
        }
      ]
    },
    {
      "cell_type": "markdown",
      "metadata": {
        "id": "vY_hwFHxEs3l",
        "colab_type": "text"
      },
      "source": [
        "# 04. 元素記号\n",
        "\n",
        "“Hi He Lied Because Boron Could Not Oxidize Fluorine. New Nations Might Also Sign Peace Security Clause. Arthur King Can.”という文を単語に分解し，1, 5, 6, 7, 8, 9, 15, 16, 19番目の単語は先頭の1文字，それ以外の単語は先頭に2文字を取り出し，取り出した文字列から単語の位置（先頭から何番目の単語か）への連想配列（辞書型もしくはマップ型）を作成せよ．"
      ]
    },
    {
      "cell_type": "code",
      "metadata": {
        "id": "Ih59px1ZF14b",
        "colab_type": "code",
        "colab": {}
      },
      "source": [
        "text = 'Hi He Lied Because Boron Could Not Oxidize Fluorine. New Nations Might Also Sign Peace Security Clause. Arthur King Can.'\n"
      ],
      "execution_count": 0,
      "outputs": []
    },
    {
      "cell_type": "code",
      "metadata": {
        "id": "Dq8IOq1LF_rD",
        "colab_type": "code",
        "colab": {}
      },
      "source": [
        ""
      ],
      "execution_count": 0,
      "outputs": []
    }
  ]
}